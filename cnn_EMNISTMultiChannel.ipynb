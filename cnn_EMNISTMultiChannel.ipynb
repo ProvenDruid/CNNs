{
  "nbformat": 4,
  "nbformat_minor": 0,
  "metadata": {
    "colab": {
      "provenance": [],
      "authorship_tag": "ABX9TyMJKxrTAXSp8Q1wQkX/prwO",
      "include_colab_link": true
    },
    "kernelspec": {
      "name": "python3",
      "display_name": "Python 3"
    },
    "language_info": {
      "name": "python"
    }
  },
  "cells": [
    {
      "cell_type": "markdown",
      "metadata": {
        "id": "view-in-github",
        "colab_type": "text"
      },
      "source": [
        "<a href=\"https://colab.research.google.com/github/ProvenDruid/CNNs/blob/main/cnn_EMNISTMultiChannel.ipynb\" target=\"_parent\"><img src=\"https://colab.research.google.com/assets/colab-badge.svg\" alt=\"Open In Colab\"/></a>"
      ]
    },
    {
      "cell_type": "code",
      "execution_count": null,
      "metadata": {
        "id": "Bn4kkmpEA3j6"
      },
      "outputs": [],
      "source": [
        "# import libraries\n",
        "import numpy as np\n",
        "\n",
        "import torch\n",
        "import torch.nn as nn\n",
        "import torch.nn.functional as F\n",
        "from torch.utils.data import DataLoader,TensorDataset\n",
        "import copy\n",
        "from sklearn.model_selection import train_test_split\n",
        "\n",
        "\n",
        "# for importing data\n",
        "import torchvision\n",
        "\n",
        "import matplotlib.pyplot as plt\n",
        "from IPython import display\n",
        "from matplotlib_inline.backend_inline import set_matplotlib_formats"
      ]
    },
    {
      "cell_type": "code",
      "source": [
        "# use GPU if available\n",
        "device = torch.device('cuda:0' if torch.cuda.is_available() else 'cpu')"
      ],
      "metadata": {
        "id": "4xXWZMUuBBzW"
      },
      "execution_count": null,
      "outputs": []
    },
    {
      "cell_type": "code",
      "source": [
        "# download the dataset\n",
        "cdata = torchvision.datasets.EMNIST(root='emnist',split='letters',download=True)\n",
        "\n",
        "# more info: https://www.nist.gov/itl/products-and-services/emnist-dataset"
      ],
      "metadata": {
        "colab": {
          "base_uri": "https://localhost:8080/"
        },
        "id": "9adqJmQNBDjl",
        "outputId": "4958a832-7347-436a-992a-80f96651070f"
      },
      "execution_count": null,
      "outputs": [
        {
          "output_type": "stream",
          "name": "stdout",
          "text": [
            "Downloading https://www.itl.nist.gov/iaui/vip/cs_links/EMNIST/gzip.zip to emnist/EMNIST/raw/gzip.zip\n"
          ]
        },
        {
          "output_type": "stream",
          "name": "stderr",
          "text": [
            "100%|██████████| 561753746/561753746 [00:12<00:00, 46314143.05it/s]\n"
          ]
        },
        {
          "output_type": "stream",
          "name": "stdout",
          "text": [
            "Extracting emnist/EMNIST/raw/gzip.zip to emnist/EMNIST/raw\n"
          ]
        }
      ]
    },
    {
      "cell_type": "code",
      "source": [
        "# so therefore we'll eliminate it and subtract 1 from the original\n",
        "images = cdata.data.view([124800,1,28,28]).float()\n",
        "# remove the first class category\n",
        "letterCategories = cdata.classes[1:]\n",
        "\n",
        "# relabel labels to start at 0\n",
        "labels = copy.deepcopy(cdata.targets)-1\n",
        "print(labels.shape)\n",
        "\n",
        "###\n",
        "print( torch.sum(labels==0) )\n",
        "torch.unique(labels)"
      ],
      "metadata": {
        "colab": {
          "base_uri": "https://localhost:8080/"
        },
        "id": "1X6k1ESTBKlk",
        "outputId": "2cefe172-a8b0-4055-b325-0802926fb90f"
      },
      "execution_count": null,
      "outputs": [
        {
          "output_type": "stream",
          "name": "stdout",
          "text": [
            "torch.Size([124800])\n",
            "tensor(4800)\n"
          ]
        },
        {
          "output_type": "execute_result",
          "data": {
            "text/plain": [
              "tensor([ 0,  1,  2,  3,  4,  5,  6,  7,  8,  9, 10, 11, 12, 13, 14, 15, 16, 17,\n",
              "        18, 19, 20, 21, 22, 23, 24, 25])"
            ]
          },
          "metadata": {},
          "execution_count": 7
        }
      ]
    },
    {
      "cell_type": "code",
      "source": [
        "# next issue: do we need to normalize the images?\n",
        "plt.hist(images[:10,:,:,:].view(1,-1).detach(),40);\n",
        "plt.title('Raw values')\n",
        "plt.show()\n",
        "\n",
        "# yarp.\n",
        "images /= torch.max(images)\n",
        "\n",
        "plt.hist(images[:10,:,:,:].view(1,-1).detach(),40);\n",
        "plt.title('After normalization')\n",
        "plt.show()"
      ],
      "metadata": {
        "colab": {
          "base_uri": "https://localhost:8080/",
          "height": 887
        },
        "id": "y7CXY5NRBNdd",
        "outputId": "2727690d-361c-4356-969d-2b8ceac095f4"
      },
      "execution_count": null,
      "outputs": [
        {
          "output_type": "display_data",
          "data": {
            "text/plain": [
              "<Figure size 640x480 with 1 Axes>"
            ],
            "image/png": "[encoded data removed]"
          },
          "metadata": {}
        },
        {
          "output_type": "display_data",
          "data": {
            "text/plain": [
              "<Figure size 640x480 with 1 Axes>"
            ],
            "image/png": "[encoded data removed]"
          },
          "metadata": {}
        }
      ]
    },
    {
      "cell_type": "code",
      "source": [
        "# Step 2: use scikitlearn to split the data\n",
        "train_data,test_data, train_labels,test_labels = train_test_split(images, labels, test_size=.1)\n",
        "\n",
        "# Step 3: convert into PyTorch Datasets\n",
        "train_data = TensorDataset(train_data,train_labels)\n",
        "test_data  = TensorDataset(test_data,test_labels)\n",
        "\n",
        "# Step 4: translate into dataloader objects\n",
        "batchsize    = 32\n",
        "train_loader = DataLoader(train_data,batch_size=batchsize,shuffle=True,drop_last=True)\n",
        "test_loader  = DataLoader(test_data,batch_size=test_data.tensors[0].shape[0])"
      ],
      "metadata": {
        "id": "Ip1uJH3XBR3F"
      },
      "execution_count": null,
      "outputs": []
    },
    {
      "cell_type": "code",
      "source": [
        "# create a class for the model\n",
        "def makeTheNet(numchans=(6,6)):\n",
        "\n",
        "  class emnistnet(nn.Module):\n",
        "    def __init__(self,numchans):\n",
        "      super().__init__()\n",
        "\n",
        "      ### -------------- feature map layers -------------- ###\n",
        "      # first convolution layer\n",
        "      self.conv1  = nn.Conv2d(1,numchans[0],3,padding=1)\n",
        "      self.bnorm1 = nn.BatchNorm2d(numchans[0]) # input the number of channels in this layer\n",
        "      # output size: (28+2*1-3)/1 + 1 = 28/2 = 14 (/2 b/c maxpool)\n",
        "\n",
        "      # second convolution layer\n",
        "      self.conv2  = nn.Conv2d(numchans[0],numchans[1],3,padding=1)\n",
        "      self.bnorm2 = nn.BatchNorm2d(numchans[1]) # input the number of channels in this layer\n",
        "      # output size: (14+2*1-3)/1 + 1 = 14/2 = 7 (/2 b/c maxpool)\n",
        "\n",
        "\n",
        "      ### -------------- linear decision layers -------------- ###\n",
        "      self.fc1 = nn.Linear(7*7*numchans[1],50)\n",
        "      self.fc2 = nn.Linear(50,26)\n",
        "\n",
        "    def forward(self,x):\n",
        "\n",
        "      # first block: convolution -> maxpool -> batchnorm -> relu\n",
        "      x = F.max_pool2d(self.conv1(x),2)\n",
        "      x = F.leaky_relu(self.bnorm1(x))\n",
        "\n",
        "      # second block: convolution -> maxpool -> batchnorm -> relu\n",
        "      x = F.max_pool2d(self.conv2(x),2)\n",
        "      x = F.leaky_relu(self.bnorm2(x))\n",
        "\n",
        "      # reshape for linear layer\n",
        "      nUnits = x.shape.numel()/x.shape[0]\n",
        "      x = x.view(-1,int(nUnits))\n",
        "\n",
        "      # linear layers\n",
        "      x = F.leaky_relu(self.fc1(x))\n",
        "      x = self.fc2(x)\n",
        "\n",
        "      return x\n",
        "\n",
        "  # create the model instance\n",
        "  net = emnistnet(numchans)\n",
        "\n",
        "  # loss function\n",
        "  lossfun = nn.CrossEntropyLoss()\n",
        "\n",
        "  # optimizer\n",
        "  optimizer = torch.optim.Adam(net.parameters(),lr=.001)\n",
        "\n",
        "  return net,lossfun,optimizer"
      ],
      "metadata": {
        "id": "GF437LPEBX51"
      },
      "execution_count": null,
      "outputs": []
    },
    {
      "cell_type": "code",
      "source": [
        "# test the model with one batch\n",
        "net,lossfun,optimizer = makeTheNet((6,12))\n",
        "\n",
        "X,y = next(iter(train_loader))\n",
        "yHat = net(X)\n",
        "\n",
        "# check size of output\n",
        "print('\\nOutput size:')\n",
        "print(yHat.shape)\n",
        "\n",
        "# # now let's compute the loss\n",
        "loss = lossfun(yHat,torch.squeeze(y))\n",
        "print(' ')\n",
        "print('Loss:')\n",
        "print(loss)"
      ],
      "metadata": {
        "colab": {
          "base_uri": "https://localhost:8080/"
        },
        "id": "40wSmDiCDAyc",
        "outputId": "e84d6b8a-54f3-4d2d-d510-403fe9ee6c23"
      },
      "execution_count": null,
      "outputs": [
        {
          "output_type": "stream",
          "name": "stdout",
          "text": [
            "\n",
            "Output size:\n",
            "torch.Size([32, 26])\n",
            " \n",
            "Loss:\n",
            "tensor(3.2797, grad_fn=<NllLossBackward0>)\n"
          ]
        }
      ]
    },
    {
      "cell_type": "code",
      "source": [
        "# a function that trains the model\n",
        "\n",
        "def function2trainTheModel(numchans):\n",
        "\n",
        "  # number of epochs\n",
        "  numepochs = 7\n",
        "\n",
        "  # create a new model\n",
        "  net,lossfun,optimizer = makeTheNet(numchans)\n",
        "\n",
        "  # send the model to the GPU\n",
        "  net.to(device)\n",
        "\n",
        "  # initialize losses\n",
        "  trainLoss = torch.zeros(numepochs)\n",
        "  testLoss  = torch.zeros(numepochs)\n",
        "  trainErr  = torch.zeros(numepochs)\n",
        "  testErr   = torch.zeros(numepochs)\n",
        "\n",
        "\n",
        "  # loop over epochs\n",
        "  for epochi in range(numepochs):\n",
        "\n",
        "    # loop over training data batches\n",
        "    net.train()\n",
        "    batchLoss = []\n",
        "    batchErr  = []\n",
        "    for X,y in train_loader:\n",
        "\n",
        "      # push data to GPU\n",
        "      X = X.to(device)\n",
        "      y = y.to(device)\n",
        "\n",
        "      # forward pass and loss\n",
        "      yHat = net(X)\n",
        "      loss = lossfun(yHat,y)\n",
        "\n",
        "      # backprop\n",
        "      optimizer.zero_grad()\n",
        "      loss.backward()\n",
        "      optimizer.step()\n",
        "\n",
        "      # loss and error from this batch\n",
        "      batchLoss.append(loss.item())\n",
        "      batchErr.append( torch.mean((torch.argmax(yHat,axis=1) != y).float()).item() )\n",
        "    # end of batch loop...\n",
        "\n",
        "    # and get average losses and error rates across the batches\n",
        "    trainLoss[epochi] = np.mean(batchLoss)\n",
        "    trainErr[epochi]  = 100*np.mean(batchErr)\n",
        "\n",
        "\n",
        "\n",
        "    ### test performance\n",
        "    net.eval()\n",
        "    X,y = next(iter(test_loader)) # extract X,y from test dataloader\n",
        "\n",
        "    # push data to GPU\n",
        "    X = X.to(device)\n",
        "    y = y.to(device)\n",
        "\n",
        "    with torch.no_grad(): # deactivates autograd\n",
        "      yHat = net(X)\n",
        "      loss = lossfun(yHat,y)\n",
        "\n",
        "    # get loss and error rate from the test batch\n",
        "    testLoss[epochi] = loss.item()\n",
        "    testErr[epochi]  = 100*torch.mean((torch.argmax(yHat,axis=1) != y).float()).item()\n",
        "\n",
        "  # end epochs\n",
        "\n",
        "  # function output\n",
        "  return trainLoss,testLoss,trainErr,testErr,net"
      ],
      "metadata": {
        "id": "FpZWOGNMDhZ9"
      },
      "execution_count": null,
      "outputs": []
    },
    {
      "cell_type": "code",
      "source": [
        "# this experiment takes ~8 mins on a GPU\n",
        "convChans = [2,5,8]\n",
        "\n",
        "# initialize results matrix\n",
        "results    = np.zeros((len(convChans),len(convChans),2))\n",
        "convParams = np.zeros((len(convChans),len(convChans)))\n",
        "\n",
        "for i,Nchani in enumerate(convChans):\n",
        "  for j,Nchanj in enumerate(convChans):\n",
        "\n",
        "    # run the model\n",
        "    trainLoss,testLoss,trainErr,testErr,net = function2trainTheModel((Nchani,Nchanj))\n",
        "\n",
        "    # get results\n",
        "    results[i,j,:]  = trainErr[-1],testErr[-1]\n",
        "    convParams[i,j] = Nchani+Nchanj # total number of convolution layer channels\n",
        "\n",
        "    print(i,j)"
      ],
      "metadata": {
        "id": "X3QaVwvvGnOs"
      },
      "execution_count": null,
      "outputs": []
    },
    {
      "cell_type": "code",
      "source": [
        "# Show the results matrix\n",
        "\n",
        "fig,ax = plt.subplots(1,2,figsize=(10,4))\n",
        "\n",
        "for i in range(2):\n",
        "  h = ax[i].imshow(results[:,:,i],vmin=np.min(results),vmax=np.max(results))\n",
        "  ax[i].set_xlabel('Channels in conv1')\n",
        "  ax[i].set_ylabel('Channels in conv2')\n",
        "  ax[i].set_xticks(range(j+1)) # j defined in previous cell\n",
        "  ax[i].set_yticks(range(j+1))\n",
        "  ax[i].set_xticklabels(convChans)\n",
        "  ax[i].set_yticklabels(convChans)\n",
        "  title = 'Train' if i==0 else 'Test'\n",
        "  ax[i].set_title('Error rates %s'%title,fontweight='bold')\n",
        "\n",
        "\n",
        "# add a colorbar right of the plot (use common colorscaling for both plots)\n",
        "axpos = ax[1].get_position()\n",
        "cax = fig.add_axes([axpos.x1+.01,axpos.y0,.01,.75])\n",
        "hh = fig.colorbar(h,cax=cax)\n",
        "hh.set_label('Error rate (%)',rotation=270,labelpad=10)\n",
        "\n",
        "plt.show()"
      ],
      "metadata": {
        "id": "9QkNW4ntGr30"
      },
      "execution_count": null,
      "outputs": []
    },
    {
      "cell_type": "code",
      "source": [
        "# error rate as a function of the total number of conv channels\n",
        "\n",
        "corrTrain = np.corrcoef(convParams.flatten(),results[:,:,0].flatten())\n",
        "corrTest  = np.corrcoef(convParams.flatten(),results[:,:,1].flatten())\n",
        "\n",
        "# plots\n",
        "plt.plot(convParams.flatten(),results[:,:,0].flatten(),'o',\n",
        "         label=f'Train (r={corrTrain[0,1]:.2f})')\n",
        "plt.plot(convParams.flatten(),results[:,:,1].flatten(),'s',\n",
        "         label=f'Test (r={corrTest[0,1]:.2f})')\n",
        "\n",
        "# other stuff etc\n",
        "plt.legend()\n",
        "plt.xlabel('Total number of convolution channels')\n",
        "plt.ylabel('Error rate (%)')\n",
        "plt.show()"
      ],
      "metadata": {
        "id": "4uANz9jHGuHL"
      },
      "execution_count": null,
      "outputs": []
    }
  ]
}