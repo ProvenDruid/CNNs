{
  "cells": [
    {
      "cell_type": "markdown",
      "metadata": {
        "id": "view-in-github",
        "colab_type": "text"
      },
      "source": [
        "<a href=\"https://colab.research.google.com/github/ProvenDruid/CNNs/blob/main/cnn_cnn4MNIST.ipynb\" target=\"_parent\"><img src=\"https://colab.research.google.com/assets/colab-badge.svg\" alt=\"Open In Colab\"/></a>"
      ]
    },
    {
      "cell_type": "code",
      "execution_count": null,
      "metadata": {
        "id": "0FSF8rAf2Qrc"
      },
      "outputs": [],
      "source": [
        "# import libraries\n",
        "import numpy as np\n",
        "\n",
        "import torch\n",
        "import torch.nn as nn\n",
        "import torch.nn.functional as F\n",
        "from torch.utils.data import DataLoader,TensorDataset\n",
        "from sklearn.model_selection import train_test_split\n",
        "\n",
        "# for getting summary info on models\n",
        "from torchsummary import summary\n",
        "\n",
        "import matplotlib.pyplot as plt\n",
        "from IPython import display\n",
        "from matplotlib_inline.backend_inline import set_matplotlib_formats"
      ]
    },
    {
      "cell_type": "code",
      "execution_count": null,
      "metadata": {
        "colab": {
          "background_save": true
        },
        "id": "JYyeRD7835sA"
      },
      "outputs": [],
      "source": [
        "# import dataset (comes with colab!)\n",
        "data = np.loadtxt(open('sample_data/mnist_train_small.csv','rb'),delimiter=',')\n",
        "\n",
        "# extract labels (number IDs) and remove from data\n",
        "labels = data[:,0]\n",
        "data   = data[:,1:]\n",
        "\n",
        "# normalize the data to a range of [0 1]\n",
        "dataNorm = data / np.max(data)"
      ]
    },
    {
      "cell_type": "code",
      "execution_count": null,
      "metadata": {
        "colab": {
          "background_save": true
        },
        "id": "LrzZIRLX4KYO"
      },
      "outputs": [],
      "source": [
        "# NEW: reshape to 2D!\n",
        "dataNorm = dataNorm.reshape(dataNorm.shape[0],1,28,28)"
      ]
    },
    {
      "cell_type": "code",
      "execution_count": null,
      "metadata": {
        "colab": {
          "background_save": true
        },
        "id": "4BNbv1Bs4tCW"
      },
      "outputs": [],
      "source": [
        "# Step 1: convert to tensor\n",
        "dataT   = torch.tensor( dataNorm ).float()\n",
        "labelsT = torch.tensor( labels ).long()\n",
        "\n",
        "# Step 2: use scikitlearn to split the data\n",
        "train_data,test_data, train_labels,test_labels = train_test_split(dataT, labelsT, test_size=.1)\n",
        "\n",
        "\n",
        "# Step 3: convert into PyTorch Datasets\n",
        "train_data = TensorDataset(train_data,train_labels)\n",
        "test_data  = TensorDataset(test_data,test_labels)\n",
        "\n",
        "# Step 4: translate into dataloader objects\n",
        "batchsize    = 32\n",
        "train_loader = DataLoader(train_data,batch_size=batchsize,shuffle=True,drop_last=True)\n",
        "test_loader  = DataLoader(test_data,batch_size=test_data.tensors[0].shape[0])"
      ]
    },
    {
      "cell_type": "code",
      "execution_count": null,
      "metadata": {
        "colab": {
          "background_save": true,
          "base_uri": "https://localhost:8080/"
        },
        "id": "BiTApSFj44ke",
        "outputId": "b382d39f-a4d1-4a8f-b922-38b85d04d247"
      },
      "outputs": [
        {
          "data": {
            "text/plain": [
              "torch.Size([18000, 1, 28, 28])"
            ]
          },
          "execution_count": 5,
          "metadata": {},
          "output_type": "execute_result"
        }
      ],
      "source": [
        "# check size (should be images X channels X width X height)\n",
        "train_loader.dataset.tensors[0].shape"
      ]
    },
    {
      "cell_type": "code",
      "execution_count": null,
      "metadata": {
        "colab": {
          "background_save": true
        },
        "id": "E0MZHKUG47fl"
      },
      "outputs": [],
      "source": [
        "# create a class for the model\n",
        "def createTheMNISTNet(printtoggle=False):\n",
        "\n",
        "  class mnistNet(nn.Module):\n",
        "    def __init__(self,printtoggle):\n",
        "      super().__init__()\n",
        "\n",
        "      ### convolution layers\n",
        "      self.conv1 = nn.Conv2d( 1,10,kernel_size=5,stride=1,padding=1)\n",
        "      # size: np.floor( (28+2*1-5)/1 )+1 = 26/2 = 13 (/2 b/c maxpool)\n",
        "\n",
        "      self.conv2 = nn.Conv2d(10,20,kernel_size=5,stride=1,padding=1)\n",
        "      # size: np.floor( (13+2*1-5)/1 )+1 = 11/2 = 5 (/2 b/c maxpool)\n",
        "\n",
        "      # compute the number of units in FClayer (number of outputs of conv2)\n",
        "      expectSize = np.floor( (5+2*0-1)/1 ) + 1 # fc1 layer has no padding or kernel, so set to 0/1\n",
        "      expectSize = 20*int(expectSize**2)\n",
        "\n",
        "      ### fully-connected layer\n",
        "      self.fc1 = nn.Linear(expectSize,50)\n",
        "\n",
        "      ### output layer\n",
        "      self.out = nn.Linear(50,10)\n",
        "\n",
        "      # toggle for printing out tensor sizes during forward prop\n",
        "      self.print = printtoggle\n",
        "\n",
        "    # forward pass\n",
        "    def forward(self,x):\n",
        "\n",
        "      print(f'Input: {x.shape}') if self.print else None\n",
        "\n",
        "      # convolution -> maxpool -> relu\n",
        "      x = F.relu(F.max_pool2d(self.conv1(x),2))\n",
        "      print(f'Layer conv1/pool1: {x.shape}') if self.print else None\n",
        "\n",
        "      # and again: convolution -> maxpool -> relu\n",
        "      x = F.relu(F.max_pool2d(self.conv2(x),2))\n",
        "      print(f'Layer conv2/pool2: {x.shape}') if self.print else None\n",
        "\n",
        "      # reshape for linear layer\n",
        "      nUnits = x.shape.numel()/x.shape[0]\n",
        "      x = x.view(-1,int(nUnits))\n",
        "      if self.print: print(f'Vectorize: {x.shape}')\n",
        "\n",
        "      # linear layers\n",
        "      x = F.relu(self.fc1(x))\n",
        "      if self.print: print(f'Layer fc1: {x.shape}')\n",
        "      x = self.out(x)\n",
        "      if self.print: print(f'Layer out: {x.shape}')\n",
        "\n",
        "      return x\n",
        "\n",
        "  # create the model instance\n",
        "  net = mnistNet(printtoggle)\n",
        "\n",
        "  # loss function\n",
        "  lossfun = nn.CrossEntropyLoss()\n",
        "\n",
        "  # optimizer\n",
        "  optimizer = torch.optim.Adam(net.parameters(),lr=.001)\n",
        "\n",
        "  return net,lossfun,optimizer"
      ]
    },
    {
      "cell_type": "code",
      "execution_count": null,
      "metadata": {
        "colab": {
          "background_save": true,
          "base_uri": "https://localhost:8080/"
        },
        "id": "CwRMlCa5AJ7z",
        "outputId": "a9f24b85-5377-4212-fc38-e0ad65e90bff"
      },
      "outputs": [
        {
          "name": "stdout",
          "output_type": "stream",
          "text": [
            "Input: torch.Size([32, 1, 28, 28])\n",
            "Layer conv1/pool1: torch.Size([32, 10, 13, 13])\n",
            "Layer conv2/pool2: torch.Size([32, 20, 5, 5])\n",
            "Vectorize: torch.Size([32, 500])\n",
            "Layer fc1: torch.Size([32, 50])\n",
            "Layer out: torch.Size([32, 10])\n",
            " \n",
            "torch.Size([32, 10])\n",
            "torch.Size([32])\n",
            " \n",
            "Loss:\n",
            "tensor(2.3425, grad_fn=<NllLossBackward0>)\n"
          ]
        }
      ],
      "source": [
        "# test the model with one batch\n",
        "net,lossfun,optimizer = createTheMNISTNet(True)\n",
        "\n",
        "X,y = next(iter(train_loader))\n",
        "yHat = net(X)\n",
        "\n",
        "# check sizes of model outputs and target variable\n",
        "print(' ')\n",
        "print(yHat.shape)\n",
        "print(y.shape)\n",
        "\n",
        "# now let's compute the loss\n",
        "loss = lossfun(yHat,y)\n",
        "print(' ')\n",
        "print('Loss:')\n",
        "print(loss)"
      ]
    },
    {
      "cell_type": "code",
      "execution_count": null,
      "metadata": {
        "colab": {
          "background_save": true,
          "base_uri": "https://localhost:8080/"
        },
        "id": "NQnFs_KTBqpS",
        "outputId": "9f72217f-aece-4559-cc40-c6db713aedaa"
      },
      "outputs": [
        {
          "name": "stdout",
          "output_type": "stream",
          "text": [
            "Input: torch.Size([2, 1, 28, 28])\n",
            "Layer conv1/pool1: torch.Size([2, 10, 13, 13])\n",
            "Layer conv2/pool2: torch.Size([2, 20, 5, 5])\n",
            "Vectorize: torch.Size([2, 500])\n",
            "Layer fc1: torch.Size([2, 50])\n",
            "Layer out: torch.Size([2, 10])\n",
            "----------------------------------------------------------------\n",
            "        Layer (type)               Output Shape         Param #\n",
            "================================================================\n",
            "            Conv2d-1           [-1, 10, 26, 26]             260\n",
            "            Conv2d-2           [-1, 20, 11, 11]           5,020\n",
            "            Linear-3                   [-1, 50]          25,050\n",
            "            Linear-4                   [-1, 10]             510\n",
            "================================================================\n",
            "Total params: 30,840\n",
            "Trainable params: 30,840\n",
            "Non-trainable params: 0\n",
            "----------------------------------------------------------------\n",
            "Input size (MB): 0.00\n",
            "Forward/backward pass size (MB): 0.07\n",
            "Params size (MB): 0.12\n",
            "Estimated Total Size (MB): 0.19\n",
            "----------------------------------------------------------------\n"
          ]
        }
      ],
      "source": [
        "# count the total number of parameters in the model\n",
        "summary(net,(1,28,28))"
      ]
    },
    {
      "cell_type": "code",
      "execution_count": null,
      "metadata": {
        "colab": {
          "background_save": true
        },
        "id": "1sB3mAgIBuXs"
      },
      "outputs": [],
      "source": [
        "# a function that trains the model\n",
        "\n",
        "def function2trainTheModel():\n",
        "\n",
        "  # number of epochs\n",
        "  numepochs = 10\n",
        "\n",
        "  # create a new model\n",
        "  net,lossfun,optimizer = createTheMNISTNet()\n",
        "\n",
        "  # initialize losses\n",
        "  losses    = torch.zeros(numepochs)\n",
        "  trainAcc  = []\n",
        "  testAcc   = []\n",
        "\n",
        "\n",
        "  # loop over epochs\n",
        "  for epochi in range(numepochs):\n",
        "\n",
        "    # loop over training data batches\n",
        "    net.train()\n",
        "    batchAcc  = []\n",
        "    batchLoss = []\n",
        "    for X,y in train_loader:\n",
        "\n",
        "      # forward pass and loss\n",
        "      yHat = net(X)\n",
        "      loss = lossfun(yHat,y)\n",
        "\n",
        "      # backprop\n",
        "      optimizer.zero_grad()\n",
        "      loss.backward()\n",
        "      optimizer.step()\n",
        "\n",
        "      # loss from this batch\n",
        "      batchLoss.append(loss.item())\n",
        "\n",
        "      # compute accuracy\n",
        "      matches = torch.argmax(yHat,axis=1) == y     # booleans (false/true)\n",
        "      matchesNumeric = matches.float()             # convert to numbers (0/1)\n",
        "      accuracyPct = 100*torch.mean(matchesNumeric) # average and x100\n",
        "      batchAcc.append( accuracyPct )               # add to list of accuracies\n",
        "    # end of batch loop...\n",
        "\n",
        "    # now that we've trained through the batches, get their average training accuracy\n",
        "    trainAcc.append( np.mean(batchAcc) )\n",
        "\n",
        "    # and get average losses across the batches\n",
        "    losses[epochi] = np.mean(batchLoss)\n",
        "\n",
        "    # test accuracy\n",
        "    net.eval()\n",
        "    X,y = next(iter(test_loader)) # extract X,y from test dataloader\n",
        "    with torch.no_grad(): # deactivates autograd\n",
        "      yHat = net(X)\n",
        "\n",
        "    # compare the following really long line of code to the training accuracy lines\n",
        "    testAcc.append( 100*torch.mean((torch.argmax(yHat,axis=1)==y).float()) )\n",
        "\n",
        "  # end epochs\n",
        "\n",
        "  # function output\n",
        "  return trainAcc,testAcc,losses,net"
      ]
    },
    {
      "cell_type": "code",
      "execution_count": null,
      "metadata": {
        "colab": {
          "background_save": true
        },
        "id": "6asAt2ADCCfa"
      },
      "outputs": [],
      "source": [
        "trainAcc,testAcc,losses,net = function2trainTheModel()"
      ]
    },
    {
      "cell_type": "code",
      "execution_count": null,
      "metadata": {
        "colab": {
          "background_save": true,
          "base_uri": "https://localhost:8080/",
          "height": 340
        },
        "id": "PGWouDVECEY9",
        "outputId": "247fb50c-c6b2-4954-8e52-4f043f5f3556"
      },
      "outputs": [
        {
          "data": {
            "image/png": "[encoded data removed]",
            "text/plain": [
              "<Figure size 1600x500 with 2 Axes>"
            ]
          },
          "metadata": {},
          "output_type": "display_data"
        }
      ],
      "source": [
        "fig,ax = plt.subplots(1,2,figsize=(16,5))\n",
        "\n",
        "ax[0].plot(losses,'s-')\n",
        "ax[0].set_xlabel('Epochs')\n",
        "ax[0].set_ylabel('Loss')\n",
        "ax[0].set_title('Model loss')\n",
        "\n",
        "ax[1].plot(trainAcc,'s-',label='Train')\n",
        "ax[1].plot(testAcc,'o-',label='Test')\n",
        "ax[1].set_xlabel('Epochs')\n",
        "ax[1].set_ylabel('Accuracy (%)')\n",
        "ax[1].set_title(f'Final model test accuracy: {testAcc[-1]:.2f}%')\n",
        "ax[1].legend()\n",
        "\n",
        "plt.show()"
      ]
    }
  ],
  "metadata": {
    "colab": {
      "provenance": [],
      "authorship_tag": "ABX9TyPMg85pirVXX3IWU9AaNNJg",
      "include_colab_link": true
    },
    "kernelspec": {
      "display_name": "Python 3",
      "name": "python3"
    },
    "language_info": {
      "name": "python"
    }
  },
  "nbformat": 4,
  "nbformat_minor": 0
}